{
 "cells": [
  {
   "cell_type": "markdown",
   "metadata": {
    "collapsed": true
   },
   "source": [
    "Welcome to your DataCamp project audition! This notebook must be filled out and vetted before a contract can be signed and you can start creating your project.\n",
    "\n",
    "The first step is forking the repository in which this notebook lives. After that, there are two parts to be completed in this notebook:\n",
    "\n",
    "- **Project information**:  The title of the project, a project description, etc.\n",
    "\n",
    "- **Project introduction**: The three first text and code cells that will form the introduction of your project.\n",
    "\n",
    "When complete, please email the link to your forked repo to projects@datacamp.com with the email subject line _DataCamp project audition_. If you have any questions, please reach out to projects@datacamp.com."
   ]
  },
  {
   "cell_type": "markdown",
   "metadata": {},
   "source": [
    "# Project information"
   ]
  },
  {
   "cell_type": "markdown",
   "metadata": {},
   "source": [
    "**Project title**: Case Study on Bond Portfolio Cash-Flows Created From Low Level Data.\n",
    "\n",
    "**Name:** József Soltész\n",
    "\n",
    "**Email address associated with your DataCamp account:** [solteszjozsef@gmail.com](mailto:solteszjozsef@gmail.com)\n",
    "\n",
    "**GitHub username:** solteszjozsef\n",
    "\n",
    "**Project description**: This will be read by the students on the DataCamp platform **before** deciding to start the project. The description should be three paragraphs, written in Markdown.\n",
    "\n",
    "- In many real world cases, an analyst have to master the data manipulation techniques using the right level data if want to answer certain questions. Data related to the financial position of a company, financial or non-financial, are first created as low level transactional data. Examples are the details of single trades or basic information of financial instruments. In this project you will explore how to aggregate trades to positions, and join them with bond cash-flows in order to analyse portfolio cash-flows, while learning the principals of relational databases.\n",
    "- This projects assumes background knowledge on data manipulation concepts and data visualization, focusing on the packages **tidyr** and **ggplot2**. It is advantageous to have some experience regarding fixed income financial products, mainly the meaning of principal amounts and cash-flows.\n",
    "- Due to the lack of publicly available data of a company's or fund's bond trades, a sample dataset will be used for the project.\n",
    "\n",
    "\n",
    "\n",
    "\n",
    "\n",
    "\n",
    "\n",
    "***TO BE DELETED LATER***\n",
    "\n",
    "- *Paragraph 1 should be an exciting introduction to analysis/model/etc. students will complete.*\n",
    "- *Paragraph 2 should list the background knowledge you assume the student doing this project will have, the more specific the better. Please list things like modules, tools, functions, methods, statistical concepts, etc.*\n",
    "- *Paragraph 3 should describe and link to (if possible) the dataset used in the project.*"
   ]
  },
  {
   "cell_type": "markdown",
   "metadata": {},
   "source": [
    "# Project introduction\n",
    "\n",
    "***Note: nothing needs to be filled out in this cell. It is simply setting up the template cells below.***\n",
    "\n",
    "The final output of a DataCamp project looks like a blog post: pairs of text and code cells that tell a story about data. The text is written from the perspective of the data analyst and *not* from the perspective of an instructor on DataCamp. So, for this blog post intro, all you need to do is pretend like you're writing a blog post -- forget the part about instructors and students.\n",
    "\n",
    "Below you'll see the structure of a DataCamp project: a series of \"tasks\" where each task consists of a title, a **single** text cell, and a **single** code cell. There are 8-12 tasks in a project and each task can have up to 10 lines of code. What you need to do:\n",
    "1. Read through the template structure.\n",
    "2. As best you can, divide your project as it is currently visualized in your mind into tasks.\n",
    "3. Fill out the template structure for the first three tasks of your project.\n",
    "\n",
    "As you are completing each task, you may wish to consult the project notebook format in our [documentation](https://instructor-support.datacamp.com/projects/datacamp-projects-jupyter-notebook). Only the `@context` and `@solution` cells are relevant to this audition."
   ]
  },
  {
   "cell_type": "markdown",
   "metadata": {},
   "source": [
    "## 1. Introduction to the bonds"
   ]
  },
  {
   "cell_type": "markdown",
   "metadata": {},
   "source": [
    "In this notebook we are going to analyse the bond portfolio of an imaginary financial institution. We will explore ways how to manipulate and aggregate data in order to calculate the cash-flows which is the very basis for fixed income portfolio analysis.\n",
    "\n",
    "The sovereign and corporate bonds are the one of the basic financial instruments. They are debt securities, under which the issuer pays interests and repays the principal in one or more instances to the debtholder before or on the maturity date according to the predetermined schedule. In most cases the bondholders can sell the bonds and other investors can buy them on the secondary market.\n",
    "\n",
    "First we explore the tables that contain the bond transactions and basic properties of the bonds. After learning the table structure, we will manipulate the base data with summary functions and joining tables in order to extract usable information from them. Finally we will draw charts as they are easier to understand for an analyst or a manager.\n",
    "\n",
    "In the picture you can see a Treasury Note issued by the US Government. The four lower tickets are called coupons, they are the certificates for the interest payments.\n",
    "![](img/1976_USD5000_8perc_Treasury_Note_small.jpg)\n",
    "Source of this image: [https://commons.wikimedia.org/wiki/File:1976_%245000_8%25_Treasury_Note.jpg](https://commons.wikimedia.org/wiki/File:1976_%245000_8%25_Treasury_Note.jpg)\n",
    "\n",
    "There are three table we will use this for this task:\n",
    "1. The *bond_transaction* table that contains all the bond transactions.\n",
    "2. The *bond* table that contains the basic characteristics of the bonds.\n",
    "3. The *bond_cashflow* table that lists the future cash-flows of the bonds.\n"
   ]
  },
  {
   "cell_type": "code",
   "execution_count": 1,
   "metadata": {},
   "outputs": [
    {
     "name": "stderr",
     "output_type": "stream",
     "text": [
      "-- Attaching packages --------------------------------------- tidyverse 1.2.1 --\n",
      "<U+221A> ggplot2 3.1.0     <U+221A> purrr   0.2.5\n",
      "<U+221A> tibble  1.4.2     <U+221A> dplyr   0.7.8\n",
      "<U+221A> tidyr   0.8.2     <U+221A> stringr 1.3.1\n",
      "<U+221A> readr   1.3.1     <U+221A> forcats 0.3.0\n",
      "Warning message:\n",
      "\"package 'ggplot2' was built under R version 3.4.4\"Warning message:\n",
      "\"package 'tibble' was built under R version 3.4.4\"Warning message:\n",
      "\"package 'tidyr' was built under R version 3.4.4\"Warning message:\n",
      "\"package 'readr' was built under R version 3.4.4\"Warning message:\n",
      "\"package 'purrr' was built under R version 3.4.4\"Warning message:\n",
      "\"package 'dplyr' was built under R version 3.4.4\"Warning message:\n",
      "\"package 'stringr' was built under R version 3.4.4\"Warning message:\n",
      "\"package 'forcats' was built under R version 3.4.4\"-- Conflicts ------------------------------------------ tidyverse_conflicts() --\n",
      "x dplyr::filter() masks stats::filter()\n",
      "x dplyr::lag()    masks stats::lag()\n"
     ]
    },
    {
     "data": {
      "text/html": [
       "<table>\n",
       "<thead><tr><th scope=col>tr_id</th><th scope=col>tr_date</th><th scope=col>buy_or_sell</th><th scope=col>bond_id</th><th scope=col>quantity</th></tr></thead>\n",
       "<tbody>\n",
       "\t<tr><td>1         </td><td>2018-12-04</td><td>buy       </td><td>3         </td><td>6000      </td></tr>\n",
       "\t<tr><td>2         </td><td>2018-12-04</td><td>buy       </td><td>9         </td><td>8000      </td></tr>\n",
       "\t<tr><td>3         </td><td>2018-12-04</td><td>buy       </td><td>4         </td><td>4000      </td></tr>\n",
       "\t<tr><td>4         </td><td>2018-12-04</td><td>buy       </td><td>5         </td><td>1000      </td></tr>\n",
       "\t<tr><td>5         </td><td>2018-12-05</td><td>buy       </td><td>8         </td><td>9000      </td></tr>\n",
       "\t<tr><td>6         </td><td>2018-12-06</td><td>buy       </td><td>8         </td><td>2000      </td></tr>\n",
       "</tbody>\n",
       "</table>\n"
      ],
      "text/latex": [
       "\\begin{tabular}{r|lllll}\n",
       " tr\\_id & tr\\_date & buy\\_or\\_sell & bond\\_id & quantity\\\\\n",
       "\\hline\n",
       "\t 1          & 2018-12-04 & buy        & 3          & 6000      \\\\\n",
       "\t 2          & 2018-12-04 & buy        & 9          & 8000      \\\\\n",
       "\t 3          & 2018-12-04 & buy        & 4          & 4000      \\\\\n",
       "\t 4          & 2018-12-04 & buy        & 5          & 1000      \\\\\n",
       "\t 5          & 2018-12-05 & buy        & 8          & 9000      \\\\\n",
       "\t 6          & 2018-12-06 & buy        & 8          & 2000      \\\\\n",
       "\\end{tabular}\n"
      ],
      "text/markdown": [
       "\n",
       "tr_id | tr_date | buy_or_sell | bond_id | quantity | \n",
       "|---|---|---|---|---|---|\n",
       "| 1          | 2018-12-04 | buy        | 3          | 6000       | \n",
       "| 2          | 2018-12-04 | buy        | 9          | 8000       | \n",
       "| 3          | 2018-12-04 | buy        | 4          | 4000       | \n",
       "| 4          | 2018-12-04 | buy        | 5          | 1000       | \n",
       "| 5          | 2018-12-05 | buy        | 8          | 9000       | \n",
       "| 6          | 2018-12-06 | buy        | 8          | 2000       | \n",
       "\n",
       "\n"
      ],
      "text/plain": [
       "  tr_id tr_date    buy_or_sell bond_id quantity\n",
       "1 1     2018-12-04 buy         3       6000    \n",
       "2 2     2018-12-04 buy         9       8000    \n",
       "3 3     2018-12-04 buy         4       4000    \n",
       "4 4     2018-12-04 buy         5       1000    \n",
       "5 5     2018-12-05 buy         8       9000    \n",
       "6 6     2018-12-06 buy         8       2000    "
      ]
     },
     "metadata": {},
     "output_type": "display_data"
    },
    {
     "data": {
      "text/html": [
       "<table>\n",
       "<thead><tr><th scope=col>bond_id</th><th scope=col>bond_name</th><th scope=col>principal</th><th scope=col>isin</th></tr></thead>\n",
       "<tbody>\n",
       "\t<tr><td>1               </td><td>3% USA (2048)   </td><td>100             </td><td>US912810SA79    </td></tr>\n",
       "\t<tr><td>2               </td><td>2,25% USA (2021)</td><td>100             </td><td>US9128283X64    </td></tr>\n",
       "\t<tr><td>3               </td><td>2,75% USA (2028)</td><td>100             </td><td>US9128283W81    </td></tr>\n",
       "\t<tr><td>4               </td><td>0% USA (2019)   </td><td>100             </td><td>US912796PT04    </td></tr>\n",
       "\t<tr><td>5               </td><td>0% USA (2020)   </td><td>100             </td><td>US9128283L27    </td></tr>\n",
       "\t<tr><td>6               </td><td>0,5% USA (2028) </td><td>100             </td><td>US9128283R96    </td></tr>\n",
       "</tbody>\n",
       "</table>\n"
      ],
      "text/latex": [
       "\\begin{tabular}{r|llll}\n",
       " bond\\_id & bond\\_name & principal & isin\\\\\n",
       "\\hline\n",
       "\t 1                  & 3\\% USA (2048)    & 100                & US912810SA79      \\\\\n",
       "\t 2                  & 2,25\\% USA (2021) & 100                & US9128283X64      \\\\\n",
       "\t 3                  & 2,75\\% USA (2028) & 100                & US9128283W81      \\\\\n",
       "\t 4                  & 0\\% USA (2019)    & 100                & US912796PT04      \\\\\n",
       "\t 5                  & 0\\% USA (2020)    & 100                & US9128283L27      \\\\\n",
       "\t 6                  & 0,5\\% USA (2028)  & 100                & US9128283R96      \\\\\n",
       "\\end{tabular}\n"
      ],
      "text/markdown": [
       "\n",
       "bond_id | bond_name | principal | isin | \n",
       "|---|---|---|---|---|---|\n",
       "| 1                | 3% USA (2048)    | 100              | US912810SA79     | \n",
       "| 2                | 2,25% USA (2021) | 100              | US9128283X64     | \n",
       "| 3                | 2,75% USA (2028) | 100              | US9128283W81     | \n",
       "| 4                | 0% USA (2019)    | 100              | US912796PT04     | \n",
       "| 5                | 0% USA (2020)    | 100              | US9128283L27     | \n",
       "| 6                | 0,5% USA (2028)  | 100              | US9128283R96     | \n",
       "\n",
       "\n"
      ],
      "text/plain": [
       "  bond_id bond_name        principal isin        \n",
       "1 1       3% USA (2048)    100       US912810SA79\n",
       "2 2       2,25% USA (2021) 100       US9128283X64\n",
       "3 3       2,75% USA (2028) 100       US9128283W81\n",
       "4 4       0% USA (2019)    100       US912796PT04\n",
       "5 5       0% USA (2020)    100       US9128283L27\n",
       "6 6       0,5% USA (2028)  100       US9128283R96"
      ]
     },
     "metadata": {},
     "output_type": "display_data"
    },
    {
     "data": {
      "text/html": [
       "<table>\n",
       "<thead><tr><th scope=col>bond_id</th><th scope=col>cf_type</th><th scope=col>cf_date</th><th scope=col>cf_amount</th></tr></thead>\n",
       "<tbody>\n",
       "\t<tr><td>1         </td><td>P         </td><td>2048-02-15</td><td>100       </td></tr>\n",
       "\t<tr><td>1         </td><td>I         </td><td>2048-02-15</td><td>  3       </td></tr>\n",
       "\t<tr><td>1         </td><td>I         </td><td>2047-02-15</td><td>  3       </td></tr>\n",
       "\t<tr><td>1         </td><td>I         </td><td>2046-02-15</td><td>  3       </td></tr>\n",
       "\t<tr><td>1         </td><td>I         </td><td>2045-02-15</td><td>  3       </td></tr>\n",
       "\t<tr><td>1         </td><td>I         </td><td>2044-02-15</td><td>  3       </td></tr>\n",
       "</tbody>\n",
       "</table>\n"
      ],
      "text/latex": [
       "\\begin{tabular}{r|llll}\n",
       " bond\\_id & cf\\_type & cf\\_date & cf\\_amount\\\\\n",
       "\\hline\n",
       "\t 1          & P          & 2048-02-15 & 100       \\\\\n",
       "\t 1          & I          & 2048-02-15 &   3       \\\\\n",
       "\t 1          & I          & 2047-02-15 &   3       \\\\\n",
       "\t 1          & I          & 2046-02-15 &   3       \\\\\n",
       "\t 1          & I          & 2045-02-15 &   3       \\\\\n",
       "\t 1          & I          & 2044-02-15 &   3       \\\\\n",
       "\\end{tabular}\n"
      ],
      "text/markdown": [
       "\n",
       "bond_id | cf_type | cf_date | cf_amount | \n",
       "|---|---|---|---|---|---|\n",
       "| 1          | P          | 2048-02-15 | 100        | \n",
       "| 1          | I          | 2048-02-15 |   3        | \n",
       "| 1          | I          | 2047-02-15 |   3        | \n",
       "| 1          | I          | 2046-02-15 |   3        | \n",
       "| 1          | I          | 2045-02-15 |   3        | \n",
       "| 1          | I          | 2044-02-15 |   3        | \n",
       "\n",
       "\n"
      ],
      "text/plain": [
       "  bond_id cf_type cf_date    cf_amount\n",
       "1 1       P       2048-02-15 100      \n",
       "2 1       I       2048-02-15   3      \n",
       "3 1       I       2047-02-15   3      \n",
       "4 1       I       2046-02-15   3      \n",
       "5 1       I       2045-02-15   3      \n",
       "6 1       I       2044-02-15   3      "
      ]
     },
     "metadata": {},
     "output_type": "display_data"
    }
   ],
   "source": [
    "# 1. Load the tidyverse package using the library function.\n",
    "library(tidyverse)\n",
    "\n",
    "# 2. Import the \"bond_transaction.csv\", assign it to the variable *bond_transaction*. Do the same with the \"bond.csv\" and \"bond_cashflow\", and assign them to the variables.\n",
    "bond_transaction <- read.csv(\"datasets/bond_transaction.csv\", header = TRUE, sep = \";\")\n",
    "bond <- read.csv(\"datasets/bond.csv\", header = TRUE, sep = \";\")\n",
    "bond_cashflow <- read.csv(\"datasets/bond_cashflow.csv\", header = TRUE, sep = \";\")\n",
    "\n",
    "# 3. Convert the tr_date and cf_date columns to be formatted as dates.\n",
    "bond_transaction$tr_date = as.Date(bond_transaction$tr_date, \"%Y-%m-%d\")\n",
    "bond_cashflow$cf_date = as.Date(bond_cashflow$cf_date, \"%Y-%m-%d\")\n",
    "\n",
    "# 4. Take a look into them.\n",
    "head(bond_transaction)\n",
    "head(bond)\n",
    "head(bond_cashflow)"
   ]
  },
  {
   "cell_type": "markdown",
   "metadata": {},
   "source": [
    "## 2. The table structure"
   ]
  },
  {
   "cell_type": "markdown",
   "metadata": {},
   "source": [
    "![](img/tables.png)\n",
    "\n",
    "The three tables has many columns but one of them is shared: the *bond_id* column. This special columnn ensures that the three tables can be joined thus you can gain a new insight into the data.\n",
    "\n",
    "The table of bond transactions contains the identification and amount of securities in the bank's portfolio. It has five fields, \n",
    "\n",
    "* the transaction identifier (*tr_id*), \n",
    "* the transaction date (*tr_date*), \n",
    "* the direction the deal (i.e. buy/sell) (*buy_or_sell*), \n",
    "* the internal identification for the bond (*bond_id*), and\n",
    "* the quantity traded  (*quantity*). \n",
    "\n",
    "You may notice that it does not contain any information of the bond cash-flows or a description of the bond itself. It is typical database design property, it ensures data validity, and by joining table it provides you many possibilities to conduct financial analysis.\n",
    "\n",
    "The table of bond properties has the following field structure:\n",
    "\n",
    "* the internal identification for the bond (*bond_id*), \n",
    "* the name of the bond (*bond_name*),\n",
    "* the principal amount (*principal*), and\n",
    "* the ISIN code (*isin*)."
   ]
  },
  {
   "cell_type": "code",
   "execution_count": 2,
   "metadata": {},
   "outputs": [
    {
     "name": "stderr",
     "output_type": "stream",
     "text": [
      "Warning message:\n",
      "\"package 'bindrcpp' was built under R version 3.4.4\""
     ]
    },
    {
     "data": {
      "text/html": [
       "<table>\n",
       "<thead><tr><th scope=col>bond_id</th><th scope=col>bond_name</th><th scope=col>total_quantity</th><th scope=col>total_principal</th></tr></thead>\n",
       "<tbody>\n",
       "\t<tr><td>1               </td><td>3% USA (2048)   </td><td>10000           </td><td>1000000         </td></tr>\n",
       "\t<tr><td>2               </td><td>2,25% USA (2021)</td><td>19000           </td><td>1900000         </td></tr>\n",
       "\t<tr><td>3               </td><td>2,75% USA (2028)</td><td> 3000           </td><td> 300000         </td></tr>\n",
       "\t<tr><td>4               </td><td>0% USA (2019)   </td><td> 6000           </td><td> 600000         </td></tr>\n",
       "\t<tr><td>5               </td><td>0% USA (2020)   </td><td>11000           </td><td>1100000         </td></tr>\n",
       "\t<tr><td>6               </td><td>0,5% USA (2028) </td><td>17000           </td><td>1700000         </td></tr>\n",
       "</tbody>\n",
       "</table>\n"
      ],
      "text/latex": [
       "\\begin{tabular}{r|llll}\n",
       " bond\\_id & bond\\_name & total\\_quantity & total\\_principal\\\\\n",
       "\\hline\n",
       "\t 1                  & 3\\% USA (2048)    & 10000              & 1000000           \\\\\n",
       "\t 2                  & 2,25\\% USA (2021) & 19000              & 1900000           \\\\\n",
       "\t 3                  & 2,75\\% USA (2028) &  3000              &  300000           \\\\\n",
       "\t 4                  & 0\\% USA (2019)    &  6000              &  600000           \\\\\n",
       "\t 5                  & 0\\% USA (2020)    & 11000              & 1100000           \\\\\n",
       "\t 6                  & 0,5\\% USA (2028)  & 17000              & 1700000           \\\\\n",
       "\\end{tabular}\n"
      ],
      "text/markdown": [
       "\n",
       "bond_id | bond_name | total_quantity | total_principal | \n",
       "|---|---|---|---|---|---|\n",
       "| 1                | 3% USA (2048)    | 10000            | 1000000          | \n",
       "| 2                | 2,25% USA (2021) | 19000            | 1900000          | \n",
       "| 3                | 2,75% USA (2028) |  3000            |  300000          | \n",
       "| 4                | 0% USA (2019)    |  6000            |  600000          | \n",
       "| 5                | 0% USA (2020)    | 11000            | 1100000          | \n",
       "| 6                | 0,5% USA (2028)  | 17000            | 1700000          | \n",
       "\n",
       "\n"
      ],
      "text/plain": [
       "  bond_id bond_name        total_quantity total_principal\n",
       "1 1       3% USA (2048)    10000          1000000        \n",
       "2 2       2,25% USA (2021) 19000          1900000        \n",
       "3 3       2,75% USA (2028)  3000           300000        \n",
       "4 4       0% USA (2019)     6000           600000        \n",
       "5 5       0% USA (2020)    11000          1100000        \n",
       "6 6       0,5% USA (2028)  17000          1700000        "
      ]
     },
     "metadata": {},
     "output_type": "display_data"
    }
   ],
   "source": [
    "# 1. Summarize the table of transactions to calculate the total quantity held for all bonds. Because of the table structure you have substract the sell deals from the total quantity. Group by the bonds, because you are also interested the single bonds, too. Assign the results to the variable **transaction_summary**.\n",
    "transaction_summary <- bond_transaction %>%\n",
    "  group_by(bond_id) %>%\n",
    "  summarize(total_quantity = sum(quantity*ifelse(buy_or_sell == \"buy\", 1, -1))) \n",
    "\n",
    "# 2. Join the **transaction_summary** table with the **bond** table. Use the \"bond_id\" column in the inner_join function. Calculate the principal amount by multiplying the quantity with the principal amount. Assign it to the variable **bond_portfolio**.\n",
    "bond_portfolio <-\n",
    "  transaction_summary %>%\n",
    "  inner_join(bond, \"bond_id\") %>%\n",
    "  mutate(total_principal = total_quantity * principal) %>%\n",
    "  select(bond_id, bond_name, total_quantity, total_principal) \n",
    "\n",
    "# 3. Take a look into it.\n",
    "head(bond_portfolio)"
   ]
  },
  {
   "cell_type": "markdown",
   "metadata": {},
   "source": [
    "## 3. Generating daily portfolio values"
   ]
  },
  {
   "cell_type": "markdown",
   "metadata": {},
   "source": [
    "You might be also interested to see how the portfolio was built up over time. That means you have to aggregate the data in a smart way.\n",
    "\n",
    "There are many possible algorithms, one of them is the following:\n",
    "\n",
    "1. Define a function that has the date of reference as input parameter.\n",
    "2. Filter the transactions for the those that were fulfilled by the date.\n",
    "3. Compute the principal amount of the portfolio, as it was in the previous exercise\n",
    "3. Return with this amount.\n",
    "4. Run this function for a vector that contains all the dates in the time period you are interested in."
   ]
  },
  {
   "cell_type": "code",
   "execution_count": 3,
   "metadata": {},
   "outputs": [
    {
     "data": {
      "text/html": [
       "1e+07"
      ],
      "text/latex": [
       "1e+07"
      ],
      "text/markdown": [
       "1e+07"
      ],
      "text/plain": [
       "[1] 1e+07"
      ]
     },
     "metadata": {},
     "output_type": "display_data"
    },
    {
     "data": {
      "text/html": [
       "TRUE"
      ],
      "text/latex": [
       "TRUE"
      ],
      "text/markdown": [
       "TRUE"
      ],
      "text/plain": [
       "[1] TRUE"
      ]
     },
     "metadata": {},
     "output_type": "display_data"
    }
   ],
   "source": [
    "# 1. Define the function as written in the proposed algorithm and name it portfolio_daily_value For the sake of simplicity, calculate it for the whole portflio, no need to break it down to the individual bonds. \n",
    "portfolio_daily_value <- function(d){\n",
    "ret <-  bond_transaction %>% \n",
    "  filter(tr_date <= d) %>%\n",
    "  group_by(bond_id) %>%\n",
    "  summarize(total_quantity = sum(quantity*ifelse(buy_or_sell == \"buy\", 1, -1))) %>%\n",
    "  inner_join(bond, \"bond_id\") %>%\n",
    "  mutate(total_principal = total_quantity * principal) %>%\n",
    "  summarize(portfolio_principal = sum(total_principal))\n",
    "return(as.numeric(ret[1,\"portfolio_principal\"]))\n",
    "}\n",
    "\n",
    "# 2. Make sure it returns a scalar\n",
    "(test_value <- portfolio_daily_value(as.Date(\"2018-12-31\")))\n",
    "\n",
    "# 3. Test this function for the date \"2018-12-31\", it should yield the solution as the sum of the portfolio_principal column in the bond_portfolio table.\n",
    "sum(bond_portfolio$total_principal) == test_value"
   ]
  },
  {
   "cell_type": "markdown",
   "metadata": {},
   "source": [
    "*Stop here! Only the three first tasks. :)*"
   ]
  },
  {
   "cell_type": "markdown",
   "metadata": {},
   "source": [
    "## 4. To be continued..."
   ]
  },
  {
   "cell_type": "markdown",
   "metadata": {},
   "source": [
    "Planned tasks:\n",
    "4. Plotting daily portfolio values\n",
    "5. Looking into the cash-flow table\n",
    "6. Calculating portfolio cash-flows\n",
    "7. First plot on the portfolio cash-flows\n",
    "8. Regrouping the data and a reformatted plot on the cash-flows\n",
    "9. Conclusion"
   ]
  }
 ],
 "metadata": {
  "kernelspec": {
   "display_name": "R",
   "language": "R",
   "name": "ir"
  },
  "language_info": {
   "codemirror_mode": "r",
   "file_extension": ".r",
   "mimetype": "text/x-r-source",
   "name": "R",
   "pygments_lexer": "r",
   "version": "3.4.3"
  }
 },
 "nbformat": 4,
 "nbformat_minor": 2
}
