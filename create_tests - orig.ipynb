{
 "cells": [
  {
   "cell_type": "markdown",
   "metadata": {},
   "source": [
    "# Create Tests\n",
    "\n",
    "The next step for creating a DataCamp project in R is creating a few tests using the [`testthat` package](https://github.com/r-lib/testthat), which is how instructors deliver feedback on the code students write in a project. The [testing chapter](http://r-pkgs.had.co.nz/tests.html) in Hadley Wickham's _R packages_ book gets into the details of testing with `testthat`, along with workflow advice and concrete examples.\n",
    "\n",
    "After installing the necessary libraries (described below), please create tests for the project tasks below, which were taken from a real live DataCamp project!\n",
    "\n",
    "When complete, please email the link to your forked repo to projects@datacamp.com with the email subject line _DataCamp project tests_. If you have any questions, please reach out to projects@datacamp.com."
   ]
  },
  {
   "cell_type": "code",
   "execution_count": null,
   "metadata": {},
   "outputs": [],
   "source": [
    "# To be able to run tests locally in the notebook, install the following:\n",
    "# install.packages(\"devtools\")\n",
    "# install.packages(testthat\")\n",
    "# devtools::install_github('datacamp/IRkernel.testthat')"
   ]
  },
  {
   "cell_type": "markdown",
   "metadata": {},
   "source": [
    "## An example of a `testthat` test\n",
    "\n",
    "Instructions to the student in the project:\n",
    "\n",
    "- Load the `readr` and `dplyr` packages.\n",
    "- Load the dataset, \"by_tag_year.csv\", into a variable named `by_tag_year` using the `read_csv()` function (**not** `read.csv()`).\n",
    "- Print `by_tag_year`.\n",
    "\n",
    "A potential **incorrect** submission is as follows. Please process the cell below. *Note: `by_tag_year.csv` exists in a directory named `datasets` in the same directory as this `create_tests.ipynb` notebook.*"
   ]
  },
  {
   "cell_type": "code",
   "execution_count": null,
   "metadata": {},
   "outputs": [],
   "source": [
    "# Load packages\n",
    "library(readr)\n",
    "\n",
    "# Load dataset\n",
    "by_tag_year <- read.csv(\"by_tag_year.csv\")\n",
    "\n",
    "# Inspect the dataset\n",
    "print(by_tag_year)"
   ]
  },
  {
   "cell_type": "markdown",
   "metadata": {},
   "source": [
    "Inspect the `testthat` test below, then run the test locally. (Processing the cell above followed by the cell below will run the test locally.)"
   ]
  },
  {
   "cell_type": "code",
   "execution_count": null,
   "metadata": {},
   "outputs": [],
   "source": [
    "# These packages need to be loaded in the first `@tests` cell. \n",
    "library(testthat) \n",
    "library(IRkernel.testthat)\n",
    "\n",
    "# The purpose of tests are to try to catch common errors and to \n",
    "# give the student a hint on how to resolve these errors.\n",
    "# The solution should pass the tests.\n",
    "run_tests({\n",
    "    test_that(\"packages are loaded\", {\n",
    "    expect_true(\"readr\" %in% .packages(), info = \"Did you load the readr package?\")\n",
    "    expect_true(\"dplyr\" %in% .packages(), info = \"Did you load the dplyr package?\")\n",
    "    })\n",
    "    \n",
    "    test_that(\"by_tag_year is correct\", {\n",
    "    expect_is(by_tag_year, \"tbl_df\", \n",
    "        info = \"Did you read in by_tag_year with read_csv (not read.csv)?\")\n",
    "    expect_equal(nrow(by_tag_year), 40518, \n",
    "        info = \"Did you read in by_tag_year with read_csv?\")\n",
    "    })\n",
    "})"
   ]
  },
  {
   "cell_type": "markdown",
   "metadata": {},
   "source": [
    "A potential **correct** submission is as follows. Please process the cell below to overwrite the previous incorrect solution."
   ]
  },
  {
   "cell_type": "code",
   "execution_count": null,
   "metadata": {},
   "outputs": [],
   "source": [
    "# Load package\n",
    "library(readr)\n",
    "library(dplyr)\n",
    "\n",
    "# Load dataset\n",
    "by_tag_year <- read_csv(\"by_tag_year.csv\")\n",
    "\n",
    "# Inspect the dataset\n",
    "print(by_tag_year)"
   ]
  },
  {
   "cell_type": "code",
   "execution_count": null,
   "metadata": {},
   "outputs": [],
   "source": [
    "run_tests({\n",
    "    test_that(\"packages are loaded\", {\n",
    "    expect_true(\"readr\" %in% .packages(), info = \"Did you load the readr package?\")\n",
    "    expect_true(\"dplyr\" %in% .packages(), info = \"Did you load the dplyr package?\")\n",
    "    })\n",
    "    \n",
    "    test_that(\"by_tag_year is correct\", {\n",
    "    expect_is(by_tag_year, \"tbl_df\", \n",
    "        info = \"Did you read in by_tag_year with read_csv (not read.csv)?\")\n",
    "    expect_equal(nrow(by_tag_year), 40518, \n",
    "        info = \"Did you read in by_tag_year with read_csv?\")\n",
    "    })\n",
    "})"
   ]
  },
  {
   "cell_type": "markdown",
   "metadata": {},
   "source": [
    "## Create a test\n",
    "It's your turn to create a test now!\n",
    "\n",
    "Instructions to the student in the project:\n",
    "* Use `mutate()` to add a column called `fraction` to `by_tag_year`, representing `number` divided by `year_total`. Name the new table `by_tag_year_fraction`.\n",
    "* Print `by_tag_year_fraction`.\n",
    "\n",
    "A potential **incorrect** submission is as follows. Please process the cell below."
   ]
  },
  {
   "cell_type": "code",
   "execution_count": null,
   "metadata": {},
   "outputs": [],
   "source": [
    "# Add fraction column\n",
    "by_tag_year_fraction <- by_tag_year %>%\n",
    "  mutate(fraction = num / year_total)\n",
    "\n",
    "# Print the new table\n",
    "print(by_tag_year_fraction)"
   ]
  },
  {
   "cell_type": "markdown",
   "metadata": {},
   "source": [
    "Please fill in the following `testthat` test template to test if:\n",
    "- `by_tag_year_fraction` is of class `tbl_df`\n",
    "- a new column named \"fraction\" was created (hint: use `colnames()` with the `%in%` operator)\n",
    "- the contents of the \"fraction\" column are correct\n",
    "\n",
    "Include a helpful feedback message for failing submissions. The test should fail since the above solution is incorrect."
   ]
  },
  {
   "cell_type": "code",
   "execution_count": null,
   "metadata": {},
   "outputs": [],
   "source": [
    "run_tests({\n",
    "    # .... YOUR TEST(S) HERE ....\n",
    "})"
   ]
  },
  {
   "cell_type": "markdown",
   "metadata": {},
   "source": [
    "A potential **correct** solution is as follows. Please process the cell below."
   ]
  },
  {
   "cell_type": "code",
   "execution_count": null,
   "metadata": {},
   "outputs": [],
   "source": [
    "# Add fraction column\n",
    "by_tag_year_fraction <- by_tag_year %>%\n",
    "  mutate(fraction = number / year_total)\n",
    "\n",
    "# Print the new table\n",
    "print(by_tag_year_fraction)"
   ]
  },
  {
   "cell_type": "markdown",
   "metadata": {},
   "source": [
    "Please copy and paste the test you just wrote into the cell below and process it. The test should pass."
   ]
  },
  {
   "cell_type": "code",
   "execution_count": null,
   "metadata": {},
   "outputs": [],
   "source": [
    "# copy and paste your test here, then process this cell"
   ]
  }
 ],
 "metadata": {
  "kernelspec": {
   "display_name": "R",
   "language": "R",
   "name": "ir"
  },
  "language_info": {
   "codemirror_mode": "r",
   "file_extension": ".r",
   "mimetype": "text/x-r-source",
   "name": "R",
   "pygments_lexer": "r",
   "version": "3.5.0"
  }
 },
 "nbformat": 4,
 "nbformat_minor": 2
}
